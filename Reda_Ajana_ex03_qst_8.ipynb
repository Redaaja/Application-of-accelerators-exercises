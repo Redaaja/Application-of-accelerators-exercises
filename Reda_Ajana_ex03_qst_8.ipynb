{
 "cells": [
  {
   "cell_type": "code",
   "execution_count": 1,
   "id": "28a8685f-5f0c-49b3-b0ae-b1ca7d9b29b5",
   "metadata": {},
   "outputs": [],
   "source": [
    "# this is a small code performed by Reda Ajana to calculate the magnetic rigidity of a particle inside an accelerator.\n",
    "# knowing the kinetic energy and rest mass of the particle and knowing also it's charge."
   ]
  },
  {
   "cell_type": "code",
   "execution_count": 2,
   "id": "4006a48c-c80b-41cf-bee2-561c4f4cd04b",
   "metadata": {},
   "outputs": [],
   "source": [
    "import math\n",
    "def get_rigidity(A, E, charge_no):\n",
    "    c= 3e8 # c is the speed of light\n",
    "    m= 1.67e-27 # from 1 u to 1 kg\n",
    "    q= charge_no*1.602e-19\n",
    "    E_tot= (E*A*1.602e-13) + (A*m*c**2)\n",
    "    p=math.sqrt((E_tot**2-(A*m*c**2)**2)/c**2)\n",
    "    Bp= p/q\n",
    "    print('the magnetic rigidity = {} T m' .format(Bp))"
   ]
  },
  {
   "cell_type": "code",
   "execution_count": 3,
   "id": "cc7eae62-be00-4ffc-9d71-d6bab8501a0e",
   "metadata": {},
   "outputs": [
    {
     "name": "stdout",
     "output_type": "stream",
     "text": [
      "the magnetic rigidity = 17.75342461380627 T m\n"
     ]
    }
   ],
   "source": [
    "get_rigidity(238, 190, 28) # for the example of question 1 in the exercises sheet "
   ]
  },
  {
   "cell_type": "code",
   "execution_count": 4,
   "id": "2c2d6990-c3e9-4c78-8cea-bfdf5f0862e7",
   "metadata": {},
   "outputs": [
    {
     "name": "stdout",
     "output_type": "stream",
     "text": [
      "the magnetic rigidity = 8.25700803472577 T m\n"
     ]
    }
   ],
   "source": [
    "get_rigidity(197, 410, 77) # for the example of question 2 in the exercises sheet "
   ]
  }
 ],
 "metadata": {
  "kernelspec": {
   "display_name": "Python 3",
   "language": "python",
   "name": "python3"
  },
  "language_info": {
   "codemirror_mode": {
    "name": "ipython",
    "version": 3
   },
   "file_extension": ".py",
   "mimetype": "text/x-python",
   "name": "python",
   "nbconvert_exporter": "python",
   "pygments_lexer": "ipython3",
   "version": "3.7.8"
  }
 },
 "nbformat": 4,
 "nbformat_minor": 5
}
